{
 "cells": [
  {
   "cell_type": "code",
   "execution_count": 2,
   "id": "5b5efccd",
   "metadata": {},
   "outputs": [],
   "source": [
    "import numpy as np\n",
    "import pandas as pd\n",
    "import matplotlib.pyplot as plt"
   ]
  },
  {
   "cell_type": "code",
   "execution_count": 3,
   "id": "23398518",
   "metadata": {},
   "outputs": [
    {
     "data": {
      "text/html": [
       "<div>\n",
       "<style scoped>\n",
       "    .dataframe tbody tr th:only-of-type {\n",
       "        vertical-align: middle;\n",
       "    }\n",
       "\n",
       "    .dataframe tbody tr th {\n",
       "        vertical-align: top;\n",
       "    }\n",
       "\n",
       "    .dataframe thead th {\n",
       "        text-align: right;\n",
       "    }\n",
       "</style>\n",
       "<table border=\"1\" class=\"dataframe\">\n",
       "  <thead>\n",
       "    <tr style=\"text-align: right;\">\n",
       "      <th></th>\n",
       "      <th>userid</th>\n",
       "      <th>age</th>\n",
       "      <th>dob_day</th>\n",
       "      <th>dob_year</th>\n",
       "      <th>dob_month</th>\n",
       "      <th>gender</th>\n",
       "      <th>tenure</th>\n",
       "      <th>friend_count</th>\n",
       "      <th>friendships_initiated</th>\n",
       "      <th>likes</th>\n",
       "      <th>likes_received</th>\n",
       "      <th>mobile_likes</th>\n",
       "      <th>mobile_likes_received</th>\n",
       "      <th>www_likes</th>\n",
       "      <th>www_likes_received</th>\n",
       "    </tr>\n",
       "  </thead>\n",
       "  <tbody>\n",
       "    <tr>\n",
       "      <th>0</th>\n",
       "      <td>2094382</td>\n",
       "      <td>14</td>\n",
       "      <td>19</td>\n",
       "      <td>1999</td>\n",
       "      <td>11</td>\n",
       "      <td>male</td>\n",
       "      <td>266.0</td>\n",
       "      <td>0</td>\n",
       "      <td>0</td>\n",
       "      <td>0</td>\n",
       "      <td>0</td>\n",
       "      <td>0</td>\n",
       "      <td>0</td>\n",
       "      <td>0</td>\n",
       "      <td>0</td>\n",
       "    </tr>\n",
       "    <tr>\n",
       "      <th>1</th>\n",
       "      <td>1192601</td>\n",
       "      <td>14</td>\n",
       "      <td>2</td>\n",
       "      <td>1999</td>\n",
       "      <td>11</td>\n",
       "      <td>female</td>\n",
       "      <td>6.0</td>\n",
       "      <td>0</td>\n",
       "      <td>0</td>\n",
       "      <td>0</td>\n",
       "      <td>0</td>\n",
       "      <td>0</td>\n",
       "      <td>0</td>\n",
       "      <td>0</td>\n",
       "      <td>0</td>\n",
       "    </tr>\n",
       "    <tr>\n",
       "      <th>2</th>\n",
       "      <td>2083884</td>\n",
       "      <td>14</td>\n",
       "      <td>16</td>\n",
       "      <td>1999</td>\n",
       "      <td>11</td>\n",
       "      <td>male</td>\n",
       "      <td>13.0</td>\n",
       "      <td>0</td>\n",
       "      <td>0</td>\n",
       "      <td>0</td>\n",
       "      <td>0</td>\n",
       "      <td>0</td>\n",
       "      <td>0</td>\n",
       "      <td>0</td>\n",
       "      <td>0</td>\n",
       "    </tr>\n",
       "    <tr>\n",
       "      <th>3</th>\n",
       "      <td>1203168</td>\n",
       "      <td>14</td>\n",
       "      <td>25</td>\n",
       "      <td>1999</td>\n",
       "      <td>12</td>\n",
       "      <td>female</td>\n",
       "      <td>93.0</td>\n",
       "      <td>0</td>\n",
       "      <td>0</td>\n",
       "      <td>0</td>\n",
       "      <td>0</td>\n",
       "      <td>0</td>\n",
       "      <td>0</td>\n",
       "      <td>0</td>\n",
       "      <td>0</td>\n",
       "    </tr>\n",
       "    <tr>\n",
       "      <th>4</th>\n",
       "      <td>1733186</td>\n",
       "      <td>14</td>\n",
       "      <td>4</td>\n",
       "      <td>1999</td>\n",
       "      <td>12</td>\n",
       "      <td>male</td>\n",
       "      <td>82.0</td>\n",
       "      <td>0</td>\n",
       "      <td>0</td>\n",
       "      <td>0</td>\n",
       "      <td>0</td>\n",
       "      <td>0</td>\n",
       "      <td>0</td>\n",
       "      <td>0</td>\n",
       "      <td>0</td>\n",
       "    </tr>\n",
       "    <tr>\n",
       "      <th>...</th>\n",
       "      <td>...</td>\n",
       "      <td>...</td>\n",
       "      <td>...</td>\n",
       "      <td>...</td>\n",
       "      <td>...</td>\n",
       "      <td>...</td>\n",
       "      <td>...</td>\n",
       "      <td>...</td>\n",
       "      <td>...</td>\n",
       "      <td>...</td>\n",
       "      <td>...</td>\n",
       "      <td>...</td>\n",
       "      <td>...</td>\n",
       "      <td>...</td>\n",
       "      <td>...</td>\n",
       "    </tr>\n",
       "    <tr>\n",
       "      <th>98998</th>\n",
       "      <td>1268299</td>\n",
       "      <td>68</td>\n",
       "      <td>4</td>\n",
       "      <td>1945</td>\n",
       "      <td>4</td>\n",
       "      <td>female</td>\n",
       "      <td>541.0</td>\n",
       "      <td>2118</td>\n",
       "      <td>341</td>\n",
       "      <td>3996</td>\n",
       "      <td>18089</td>\n",
       "      <td>3505</td>\n",
       "      <td>11887</td>\n",
       "      <td>491</td>\n",
       "      <td>6202</td>\n",
       "    </tr>\n",
       "    <tr>\n",
       "      <th>98999</th>\n",
       "      <td>1256153</td>\n",
       "      <td>18</td>\n",
       "      <td>12</td>\n",
       "      <td>1995</td>\n",
       "      <td>3</td>\n",
       "      <td>female</td>\n",
       "      <td>21.0</td>\n",
       "      <td>1968</td>\n",
       "      <td>1720</td>\n",
       "      <td>4401</td>\n",
       "      <td>13412</td>\n",
       "      <td>4399</td>\n",
       "      <td>10592</td>\n",
       "      <td>2</td>\n",
       "      <td>2820</td>\n",
       "    </tr>\n",
       "    <tr>\n",
       "      <th>99000</th>\n",
       "      <td>1195943</td>\n",
       "      <td>15</td>\n",
       "      <td>10</td>\n",
       "      <td>1998</td>\n",
       "      <td>5</td>\n",
       "      <td>female</td>\n",
       "      <td>111.0</td>\n",
       "      <td>2002</td>\n",
       "      <td>1524</td>\n",
       "      <td>11959</td>\n",
       "      <td>12554</td>\n",
       "      <td>11959</td>\n",
       "      <td>11462</td>\n",
       "      <td>0</td>\n",
       "      <td>1092</td>\n",
       "    </tr>\n",
       "    <tr>\n",
       "      <th>99001</th>\n",
       "      <td>1468023</td>\n",
       "      <td>23</td>\n",
       "      <td>11</td>\n",
       "      <td>1990</td>\n",
       "      <td>4</td>\n",
       "      <td>female</td>\n",
       "      <td>416.0</td>\n",
       "      <td>2560</td>\n",
       "      <td>185</td>\n",
       "      <td>4506</td>\n",
       "      <td>6516</td>\n",
       "      <td>4506</td>\n",
       "      <td>5760</td>\n",
       "      <td>0</td>\n",
       "      <td>756</td>\n",
       "    </tr>\n",
       "    <tr>\n",
       "      <th>99002</th>\n",
       "      <td>1397896</td>\n",
       "      <td>39</td>\n",
       "      <td>15</td>\n",
       "      <td>1974</td>\n",
       "      <td>5</td>\n",
       "      <td>female</td>\n",
       "      <td>397.0</td>\n",
       "      <td>2049</td>\n",
       "      <td>768</td>\n",
       "      <td>9410</td>\n",
       "      <td>12443</td>\n",
       "      <td>9410</td>\n",
       "      <td>9530</td>\n",
       "      <td>0</td>\n",
       "      <td>2913</td>\n",
       "    </tr>\n",
       "  </tbody>\n",
       "</table>\n",
       "<p>99003 rows × 15 columns</p>\n",
       "</div>"
      ],
      "text/plain": [
       "        userid  age  dob_day  dob_year  dob_month  gender  tenure  \\\n",
       "0      2094382   14       19      1999         11    male   266.0   \n",
       "1      1192601   14        2      1999         11  female     6.0   \n",
       "2      2083884   14       16      1999         11    male    13.0   \n",
       "3      1203168   14       25      1999         12  female    93.0   \n",
       "4      1733186   14        4      1999         12    male    82.0   \n",
       "...        ...  ...      ...       ...        ...     ...     ...   \n",
       "98998  1268299   68        4      1945          4  female   541.0   \n",
       "98999  1256153   18       12      1995          3  female    21.0   \n",
       "99000  1195943   15       10      1998          5  female   111.0   \n",
       "99001  1468023   23       11      1990          4  female   416.0   \n",
       "99002  1397896   39       15      1974          5  female   397.0   \n",
       "\n",
       "       friend_count  friendships_initiated  likes  likes_received  \\\n",
       "0                 0                      0      0               0   \n",
       "1                 0                      0      0               0   \n",
       "2                 0                      0      0               0   \n",
       "3                 0                      0      0               0   \n",
       "4                 0                      0      0               0   \n",
       "...             ...                    ...    ...             ...   \n",
       "98998          2118                    341   3996           18089   \n",
       "98999          1968                   1720   4401           13412   \n",
       "99000          2002                   1524  11959           12554   \n",
       "99001          2560                    185   4506            6516   \n",
       "99002          2049                    768   9410           12443   \n",
       "\n",
       "       mobile_likes  mobile_likes_received  www_likes  www_likes_received  \n",
       "0                 0                      0          0                   0  \n",
       "1                 0                      0          0                   0  \n",
       "2                 0                      0          0                   0  \n",
       "3                 0                      0          0                   0  \n",
       "4                 0                      0          0                   0  \n",
       "...             ...                    ...        ...                 ...  \n",
       "98998          3505                  11887        491                6202  \n",
       "98999          4399                  10592          2                2820  \n",
       "99000         11959                  11462          0                1092  \n",
       "99001          4506                   5760          0                 756  \n",
       "99002          9410                   9530          0                2913  \n",
       "\n",
       "[99003 rows x 15 columns]"
      ]
     },
     "metadata": {},
     "output_type": "display_data"
    }
   ],
   "source": [
    "df = pd.read_csv('C:\\CodeSaves\\Capstone2\\pseudo_facebook.csv')\n",
    "display(df)\n",
    "#print(df.shape, \"\\n\")\n",
    "#df.info()\n",
    "#df.head(10)"
   ]
  },
  {
   "cell_type": "code",
   "execution_count": 4,
   "id": "0232f6c0",
   "metadata": {},
   "outputs": [
    {
     "data": {
      "image/png": "[encoded data removed]",
      "text/plain": [
       "<Figure size 1008x648 with 1 Axes>"
      ]
     },
     "metadata": {
      "needs_background": "light"
     },
     "output_type": "display_data"
    }
   ],
   "source": [
    "#AGE HISTOGRAM\n",
    "\n",
    "df[[\"age\"]].hist(figsize=(14,9), linewidth='1', edgecolor='w', bins=100, grid=False)\n",
    "plt.show()"
   ]
  },
  {
   "cell_type": "code",
   "execution_count": 5,
   "id": "234fb239",
   "metadata": {},
   "outputs": [
    {
     "name": "stdout",
     "output_type": "stream",
     "text": [
      "NUMBER OF MALES AND FEMALES\n"
     ]
    },
    {
     "data": {
      "image/png": "[encoded data removed]",
      "text/plain": [
       "<Figure size 432x288 with 1 Axes>"
      ]
     },
     "metadata": {},
     "output_type": "display_data"
    },
    {
     "name": "stdout",
     "output_type": "stream",
     "text": [
      "Male : 58574 \n",
      " Female : 40254\n"
     ]
    }
   ],
   "source": [
    "#Number of males vs number of females\n",
    "x = len(df[df[\"gender\"]==\"male\"])\n",
    "y = len(df[df[\"gender\"]==\"female\"])\n",
    "\n",
    "labels = [\"Male\", \"Female\"]\n",
    "numbers = [x, y]\n",
    "\n",
    "explode = (0,0.1)\n",
    "\n",
    "colors = [\"#66b2ff\", \"#ff9999\"]\n",
    "\n",
    "fig1, ax1 = plt.subplots()\n",
    "ax1.pie(numbers, explode=explode, labels=labels, colors=colors,autopct='%1.1f%%',shadow=True, startangle=90)\n",
    "ax1.axis('equal')\n",
    "\n",
    "print(\"NUMBER OF MALES AND FEMALES\")\n",
    "\n",
    "plt.show()\n",
    "print(labels[0],\":\",x,\"\\n\",labels[1],\":\", y)"
   ]
  },
  {
   "cell_type": "code",
   "execution_count": 7,
   "id": "7261afdf",
   "metadata": {},
   "outputs": [
    {
     "name": "stdout",
     "output_type": "stream",
     "text": [
      "Likes Based On Gender\n",
      "\n",
      "AVERAGE VALUES\n"
     ]
    },
    {
     "data": {
      "text/plain": [
       "FriendsMale      165.035459\n",
       "FriendsFemale    241.969941\n",
       "dtype: float64"
      ]
     },
     "execution_count": 7,
     "metadata": {},
     "output_type": "execute_result"
    },
    {
     "data": {
      "image/png": "[encoded data removed]",
      "text/plain": [
       "<Figure size 432x288 with 1 Axes>"
      ]
     },
     "metadata": {
      "needs_background": "light"
     },
     "output_type": "display_data"
    }
   ],
   "source": [
    "#AVERAGE NUMBER OF FRIENDS PER GENDER\n",
    "\n",
    "fgDF = pd.DataFrame(df, columns=[\"gender\", \"friend_count\"])\n",
    "\n",
    "friends_male = fgDF[fgDF[\"gender\"]==\"male\"]\n",
    "friends_female = fgDF[fgDF[\"gender\"]==\"female\"]\n",
    "\n",
    "friends_male.rename(columns = {\"friend_count\": \"FriendsMale\"}, inplace = True)\n",
    "friends_female.rename(columns = {\"friend_count\": \"FriendsFemale\"}, inplace = True)\n",
    "\n",
    "#display(friends_male, friends_female)\n",
    "\n",
    "friends_male.reset_index(drop=True, inplace = True )\n",
    "friends_female.reset_index(drop=True, inplace = True)\n",
    "\n",
    "finalFr= pd.concat([friends_male[\"FriendsMale\"], friends_female[\"FriendsFemale\"]], axis=1 )\n",
    "#display(finalFr)\n",
    "print(\"Likes Based On Gender\\n\\nAVERAGE VALUES\")\n",
    "finalFr.mean().plot(kind=\"bar\", color=(\"#66b2ff\", \"#ff9999\"))\n",
    "finalFr.mean()"
   ]
  },
  {
   "cell_type": "code",
   "execution_count": 8,
   "id": "cc0b0b52",
   "metadata": {},
   "outputs": [
    {
     "data": {
      "image/png": "[encoded data removed]",
      "text/plain": [
       "<Figure size 432x288 with 1 Axes>"
      ]
     },
     "metadata": {},
     "output_type": "display_data"
    },
    {
     "name": "stdout",
     "output_type": "stream",
     "text": [
      "Below 35 : 59791 \n",
      " 35 and Above : 39212\n"
     ]
    }
   ],
   "source": [
    "#NUMBER OF PEOPLE ABOVE AND BELOW 35\n",
    "\n",
    "x = len(df[df[\"age\"]<35])\n",
    "y = len(df[df[\"age\"]>=35])\n",
    "\n",
    "labels = [\"Below 35\", \"35 and Above\"]\n",
    "numbers = [x, y]\n",
    "\n",
    "explode = (0,0.1)\n",
    "\n",
    "colors = [\"#ff8c19\", \"#ffdb58\"]\n",
    "\n",
    "fig1, ax1 = plt.subplots()\n",
    "ax1.pie(numbers, explode=explode, labels=labels, colors=colors, autopct='%1.1f%%',shadow=True, startangle=90)\n",
    "ax1.axis('equal')\n",
    "\n",
    "plt.show()\n",
    "print(labels[0],\":\",x,\"\\n\",labels[1],\":\", y)"
   ]
  },
  {
   "cell_type": "code",
   "execution_count": 9,
   "id": "01f186c3",
   "metadata": {},
   "outputs": [
    {
     "name": "stdout",
     "output_type": "stream",
     "text": [
      "Young: Below 35\n",
      "Old: 35 and Above\n",
      "\n",
      "AVERAGE NUMBER OF FRIENDS\n"
     ]
    },
    {
     "data": {
      "text/plain": [
       "FriendsYoung    225.986871\n",
       "FriendsOld      151.161277\n",
       "dtype: float64"
      ]
     },
     "execution_count": 9,
     "metadata": {},
     "output_type": "execute_result"
    },
    {
     "data": {
      "image/png": "[encoded data removed]",
      "text/plain": [
       "<Figure size 432x288 with 1 Axes>"
      ]
     },
     "metadata": {
      "needs_background": "light"
     },
     "output_type": "display_data"
    }
   ],
   "source": [
    "#AVERAGE NUMBER OF FRIENDS BASED ON AGE\n",
    "\n",
    "faDF = pd.DataFrame(df, columns=[\"age\", \"friend_count\"])\n",
    "\n",
    "friends_young = faDF[faDF[\"age\"]<35]\n",
    "friends_old = faDF[faDF[\"age\"]>=35]\n",
    "\n",
    "friends_young.rename(columns = {\"friend_count\": \"FriendsYoung\"}, inplace = True)\n",
    "friends_old.rename(columns = {\"friend_count\": \"FriendsOld\"}, inplace = True)\n",
    "\n",
    "#display(friends_male, friends_female)\n",
    "\n",
    "friends_young.reset_index(drop=True, inplace = True )\n",
    "friends_old.reset_index(drop=True, inplace = True)\n",
    "\n",
    "finalFr= pd.concat([friends_young[\"FriendsYoung\"], friends_old[\"FriendsOld\"]], axis=1 )\n",
    "#display(finalFr)\n",
    "\n",
    "\n",
    "print(\"Young: Below 35\\nOld: 35 and Above\\n\\nAVERAGE NUMBER OF FRIENDS\")\n",
    "finalFr.mean().plot(kind=\"bar\", color=(\"#ff8c19\", \"#ffdb58\"))\n",
    "finalFr.mean()"
   ]
  },
  {
   "cell_type": "code",
   "execution_count": 10,
   "id": "b4d6a5dd",
   "metadata": {},
   "outputs": [
    {
     "name": "stdout",
     "output_type": "stream",
     "text": [
      "Young: Below 35\n",
      "Old: 35 and Above\n",
      "\n",
      "AVERAGE LIKES RECIEVED BY YOUNG AND OLD\n"
     ]
    },
    {
     "data": {
      "text/plain": [
       "Young_likes_received    168.134535\n",
       "Old_likes_received      103.890212\n",
       "dtype: float64"
      ]
     },
     "execution_count": 10,
     "metadata": {},
     "output_type": "execute_result"
    },
    {
     "data": {
      "image/png": "[encoded data removed]",
      "text/plain": [
       "<Figure size 432x288 with 1 Axes>"
      ]
     },
     "metadata": {
      "needs_background": "light"
     },
     "output_type": "display_data"
    }
   ],
   "source": [
    "#AVERAGE NUMBER OF LIKES RECEIVED BASED ON AGE\n",
    "\n",
    "lrDF = pd.DataFrame(df, columns=[\"age\", \"likes_received\"])\n",
    "\n",
    "lr_young = lrDF[lrDF[\"age\"]<35]\n",
    "lr_old = lrDF[lrDF[\"age\"]>=35]\n",
    "\n",
    "lr_young.rename(columns = {\"likes_received\": \"Young_likes_received\"}, inplace = True)\n",
    "lr_old.rename(columns = {\"likes_received\": \"Old_likes_received\"}, inplace = True)\n",
    "\n",
    "#display(lr_young, lr_old)\n",
    "\n",
    "lr_young.reset_index(drop=True, inplace = True )\n",
    "lr_old.reset_index(drop=True, inplace = True)\n",
    "\n",
    "finalLr= pd.concat([lr_young[\"Young_likes_received\"], lr_old[\"Old_likes_received\"]], axis=1 )\n",
    "#display(finalLr)\n",
    "\n",
    "\n",
    "print(\"Young: Below 35\\nOld: 35 and Above\\n\\nAVERAGE LIKES RECIEVED BY YOUNG AND OLD\")\n",
    "finalLr.mean().plot(kind=\"bar\", color=(\"#ff8c19\", \"#ffdb58\"))\n",
    "finalLr.mean()"
   ]
  },
  {
   "cell_type": "code",
   "execution_count": 11,
   "id": "47c28259",
   "metadata": {},
   "outputs": [
    {
     "name": "stdout",
     "output_type": "stream",
     "text": [
      "DO YOUNG PEOPLE PREFER MOBILE OR WEBSITE?\n"
     ]
    },
    {
     "data": {
      "text/plain": [
       "mobile_likes    113.695924\n",
       "www_likes        45.672911\n",
       "dtype: float64"
      ]
     },
     "execution_count": 11,
     "metadata": {},
     "output_type": "execute_result"
    },
    {
     "data": {
      "image/png": "[encoded data removed]",
      "text/plain": [
       "<Figure size 432x288 with 1 Axes>"
      ]
     },
     "metadata": {
      "needs_background": "light"
     },
     "output_type": "display_data"
    }
   ],
   "source": [
    "#Browsing Device of Choice For Young\n",
    "\n",
    "devYDF = pd.DataFrame(df[df[\"age\"]<35], columns=[\"mobile_likes\", \"www_likes\"])\n",
    "#display(devYDF)\n",
    "\n",
    "print(\"DO YOUNG PEOPLE PREFER MOBILE OR WEBSITE?\")\n",
    "devYDF.mean().plot(kind=\"bar\", color=(\"#52307c\", \"#b99aff\"))\n",
    "devYDF.mean()"
   ]
  },
  {
   "cell_type": "code",
   "execution_count": 12,
   "id": "3135fefd",
   "metadata": {},
   "outputs": [
    {
     "name": "stdout",
     "output_type": "stream",
     "text": [
      "DO OLD PEOPLE PREFER MOBILE OR WEBSITE?\n"
     ]
    },
    {
     "data": {
      "text/plain": [
       "mobile_likes    94.558783\n",
       "www_likes       56.503137\n",
       "dtype: float64"
      ]
     },
     "execution_count": 12,
     "metadata": {},
     "output_type": "execute_result"
    },
    {
     "data": {
      "image/png": "[encoded data removed]",
      "text/plain": [
       "<Figure size 432x288 with 1 Axes>"
      ]
     },
     "metadata": {
      "needs_background": "light"
     },
     "output_type": "display_data"
    }
   ],
   "source": [
    "#Browsing Device of Choice For OLD\n",
    "\n",
    "devYDF = pd.DataFrame(df[df[\"age\"]>=35], columns=[\"mobile_likes\", \"www_likes\"])\n",
    "#display(devYDF)\n",
    "\n",
    "print(\"DO OLD PEOPLE PREFER MOBILE OR WEBSITE?\")\n",
    "devYDF.mean().plot(kind=\"bar\", color=(\"#580818\", \"#9a0e2a\"))\n",
    "devYDF.mean()"
   ]
  },
  {
   "cell_type": "code",
   "execution_count": 25,
   "id": "45229fd1",
   "metadata": {},
   "outputs": [
    {
     "name": "stdout",
     "output_type": "stream",
     "text": [
      "Number of birthdays in each month:\n"
     ]
    },
    {
     "data": {
      "text/plain": [
       "1     11772\n",
       "2      7632\n",
       "3      8110\n",
       "4      7810\n",
       "5      8271\n",
       "6      7607\n",
       "7      8021\n",
       "8      8266\n",
       "9      7939\n",
       "10     8476\n",
       "11     7205\n",
       "12     7894\n",
       "Name: dob_month, dtype: int64"
      ]
     },
     "metadata": {},
     "output_type": "display_data"
    },
    {
     "data": {
      "image/png": "[encoded data removed]",
      "text/plain": [
       "<Figure size 432x288 with 1 Axes>"
      ]
     },
     "metadata": {
      "needs_background": "light"
     },
     "output_type": "display_data"
    }
   ],
   "source": [
    "monthList=(\"Jan\", \"Feb\", \"Mar\", \"Apr\", \"May\", \"Jun\", \"Jul\", \"Aug\", \"Sep\", \"Oct\", \"Nov\", \"Dec\")\n",
    "x_pos = (0,1,2,3,4,5,6,7,8,9,10,11)\n",
    "df[\"dob_month\"].value_counts().sort_index().plot(kind=\"bar\", xlabel=\"DOB MONTH\", color=(\"#3d8c40\"))\n",
    "\n",
    "print(\"Number of birthdays in each month:\")\n",
    "display(df[\"dob_month\"].value_counts().sort_index())\n",
    "\n",
    "plt.xticks(x_pos, monthList)\n",
    "plt.show()\n",
    "\n"
   ]
  },
  {
   "cell_type": "code",
   "execution_count": null,
   "id": "aaefc9d0",
   "metadata": {},
   "outputs": [],
   "source": []
  }
 ],
 "metadata": {
  "kernelspec": {
   "display_name": "Python 3 (ipykernel)",
   "language": "python",
   "name": "python3"
  },
  "language_info": {
   "codemirror_mode": {
    "name": "ipython",
    "version": 3
   },
   "file_extension": ".py",
   "mimetype": "text/x-python",
   "name": "python",
   "nbconvert_exporter": "python",
   "pygments_lexer": "ipython3",
   "version": "3.9.5"
  }
 },
 "nbformat": 4,
 "nbformat_minor": 5
}
